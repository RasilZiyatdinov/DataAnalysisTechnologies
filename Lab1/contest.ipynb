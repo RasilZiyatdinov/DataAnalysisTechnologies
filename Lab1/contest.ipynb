{
 "cells": [
  {
   "cell_type": "code",
   "execution_count": 1,
   "metadata": {},
   "outputs": [
    {
     "name": "stdout",
     "output_type": "stream",
     "text": [
      "0.667\n"
     ]
    }
   ],
   "source": [
    "# A. Сумма ряда\n",
    "\n",
    "N = int(input())\n",
    "S = 0\n",
    "\n",
    "for i in range(1, N + 1):\n",
    "    S += (2 * i) / (i + 2)\n",
    "\n",
    "print(f\"{S:.3f}\")"
   ]
  },
  {
   "cell_type": "code",
   "execution_count": 8,
   "metadata": {},
   "outputs": [
    {
     "name": "stdout",
     "output_type": "stream",
     "text": [
      "3\n"
     ]
    }
   ],
   "source": [
    "# B. Программа-шутка (-)\n",
    "import math\n",
    "\n",
    "\n",
    "X = int(input())\n",
    "Y = int(input())\n",
    "N = int(input())\n",
    "\n",
    "days = math.ceil((N - X) / (X - Y)) + 1\n",
    "print(days)"
   ]
  },
  {
   "cell_type": "code",
   "execution_count": 10,
   "metadata": {},
   "outputs": [
    {
     "name": "stdout",
     "output_type": "stream",
     "text": [
      "13\n",
      "0\n"
     ]
    }
   ],
   "source": [
    "# C. Обворожительная улыбка\n",
    "X = int(input())\n",
    "Y = int(input())\n",
    "\n",
    "total_minutes = 2 * X * Y\n",
    "\n",
    "hours = 8 + (total_minutes // 60)\n",
    "minutes = total_minutes % 60\n",
    "\n",
    "print(hours)\n",
    "print(minutes)"
   ]
  },
  {
   "cell_type": "code",
   "execution_count": null,
   "metadata": {},
   "outputs": [
    {
     "name": "stdout",
     "output_type": "stream",
     "text": [
      "5\n"
     ]
    }
   ],
   "source": [
    "# E. Как хорошо уметь читать!\n",
    "def pages_read(X, n):\n",
    "    total_pages = 0\n",
    "    for i in range(1, n + 1):\n",
    "        pages_today = X + 2 * (i - 1)\n",
    "        total_pages += pages_today * i\n",
    "    return total_pages\n",
    "\n",
    "def find_min_days(X, Y):\n",
    "    left, right = 1, 100000\n",
    "    answer = right\n",
    "\n",
    "    while left <= right:\n",
    "        mid = (left + right) // 2\n",
    "        if pages_read(X, mid) >= Y:\n",
    "            answer = mid\n",
    "            right = mid - 1\n",
    "        else:\n",
    "            left = mid + 1\n",
    "    return answer\n",
    "\n",
    "X = int(input())\n",
    "Y = int(input()) \n",
    "\n",
    "result = find_min_days(X, Y)\n",
    "\n",
    "print(result)\n"
   ]
  },
  {
   "cell_type": "code",
   "execution_count": null,
   "metadata": {},
   "outputs": [
    {
     "name": "stdout",
     "output_type": "stream",
     "text": [
      "14\n"
     ]
    }
   ],
   "source": [
    "# F. Минимальное число\n",
    "def find_min_number(N, S):\n",
    "    if S < 1 or S > 9 * N:\n",
    "        return \"NO\"\n",
    "    \n",
    "    digits = [0] * N\n",
    "    \n",
    "    digits[0] = 1\n",
    "    S -= 1\n",
    "    \n",
    "    for i in range(N - 1, -1, -1):\n",
    "        if S > 9:\n",
    "            digits[i] += 9\n",
    "            S -= 9\n",
    "        else:\n",
    "            digits[i] += S\n",
    "            S = 0\n",
    "    \n",
    "    return ''.join(map(str, digits))\n",
    "\n",
    "N = int(input())\n",
    "S = int(input())\n",
    "\n",
    "print(find_min_number(N, S))"
   ]
  },
  {
   "cell_type": "code",
   "execution_count": null,
   "metadata": {},
   "outputs": [
    {
     "name": "stdout",
     "output_type": "stream",
     "text": [
      "54\n"
     ]
    }
   ],
   "source": [
    "# D. Отчисление\n",
    "def is_beautiful(number):\n",
    "    digits = str(number)\n",
    "    return len(set(digits)) == len(digits)\n",
    "\n",
    "def largest_beautiful_number(N):\n",
    "    for num in range(N, 0, -1):\n",
    "        if is_beautiful(num):\n",
    "            return num\n",
    "\n",
    "N = int(input().strip())\n",
    "\n",
    "result = largest_beautiful_number(N)\n",
    "print(result)"
   ]
  },
  {
   "cell_type": "code",
   "execution_count": 10,
   "metadata": {},
   "outputs": [
    {
     "name": "stdout",
     "output_type": "stream",
     "text": [
      "6\n"
     ]
    }
   ],
   "source": [
    "# G. Изготовление деталей (-)\n",
    "a = int(input())\n",
    "b = int(input())\n",
    "n = int(input())\n",
    "\n",
    "total_details = 0\n",
    "opilki = 0\n",
    "\n",
    "while n > 0:\n",
    "    total_details += n\n",
    "    opilki += n * b\n",
    "    n = opilki // a\n",
    "    opilki %= a\n",
    "    \n",
    "print(total_details)"
   ]
  }
 ],
 "metadata": {
  "kernelspec": {
   "display_name": "Python 3",
   "language": "python",
   "name": "python3"
  },
  "language_info": {
   "codemirror_mode": {
    "name": "ipython",
    "version": 3
   },
   "file_extension": ".py",
   "mimetype": "text/x-python",
   "name": "python",
   "nbconvert_exporter": "python",
   "pygments_lexer": "ipython3",
   "version": "3.13.0"
  }
 },
 "nbformat": 4,
 "nbformat_minor": 2
}
