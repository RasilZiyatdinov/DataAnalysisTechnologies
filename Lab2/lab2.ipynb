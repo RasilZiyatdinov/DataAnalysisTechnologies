{
 "cells": [
  {
   "cell_type": "code",
   "execution_count": 6,
   "metadata": {},
   "outputs": [
    {
     "name": "stdout",
     "output_type": "stream",
     "text": [
      "3AC5B2DA3D\n",
      "G3FBY2KL\n",
      "ASD\n",
      "Y\n"
     ]
    }
   ],
   "source": [
    "# Задача 1\n",
    "def compress(s):\n",
    "    compressed = []\n",
    "    count = 1\n",
    "    \n",
    "    for i in range(1, len(s)):\n",
    "        if s[i] == s[i - 1]:\n",
    "            count += 1\n",
    "        else:\n",
    "            if count > 1:\n",
    "                compressed.append(f\"{count}{s[i - 1]}\")\n",
    "            else:\n",
    "                compressed.append(s[i - 1])\n",
    "            count = 1\n",
    "    \n",
    "    if count > 1:\n",
    "        compressed.append(f\"{count}{s[-1]}\")\n",
    "    else:\n",
    "        compressed.append(s[-1])\n",
    "    \n",
    "    return \"\".join(compressed)\n",
    "\n",
    "\n",
    "s = \"AAACBBBBBDDADDD\"\n",
    "print(compress(s))\n",
    "\n",
    "s = \"GFFFBYKKL\"\n",
    "print(compress(s))\n",
    "\n",
    "s = \"ASD\"\n",
    "print(compress(s))\n",
    "\n",
    "s = \"Y\"\n",
    "print(compress(s))\n"
   ]
  },
  {
   "cell_type": "code",
   "execution_count": 7,
   "metadata": {},
   "outputs": [
    {
     "name": "stdout",
     "output_type": "stream",
     "text": [
      "Valid\n",
      "Invalid\n"
     ]
    }
   ],
   "source": [
    "# Задача 2\n",
    "def check_passwd(password):\n",
    "    if len(password) < 12:\n",
    "        return False\n",
    "    is_uppercase = any(char.isupper() for char in password)\n",
    "    is_lowercase = any(char.islower() for char in password)\n",
    "    is_digit = any(char.isdigit() for char in password)\n",
    "    is_special = any(char in \"!@#$%^&*()-+=\" for char in password)\n",
    "    \n",
    "    return is_uppercase and is_lowercase and is_digit and is_special\n",
    "\n",
    "\n",
    "n = int(input())\n",
    "for _ in range(n):\n",
    "    password = input().strip()\n",
    "    if check_passwd(password):\n",
    "        print(\"Valid\")\n",
    "    else:\n",
    "        print(\"Invalid\")\n",
    "\n"
   ]
  },
  {
   "cell_type": "code",
   "execution_count": null,
   "metadata": {},
   "outputs": [
    {
     "name": "stdout",
     "output_type": "stream",
     "text": [
      "2\n"
     ]
    }
   ],
   "source": [
    "# Задача 3\n",
    "def find_median(data):\n",
    "    n = len(data)\n",
    "    mid = n // 2\n",
    "    if n % 2 == 0:\n",
    "        return (data[mid - 1] + data[mid]) / 2\n",
    "    else:\n",
    "        return data[mid]\n",
    "\n",
    "def count_outliers(arr):\n",
    "    arr.sort()\n",
    "    \n",
    "    n = len(arr)\n",
    "    Q2 = find_median(arr)\n",
    "    lower_half = arr[:n//2]\n",
    "    upper_half = arr[(n+1)//2:] \n",
    "    \n",
    "    Q1 = find_median(lower_half)\n",
    "    Q3 = find_median(upper_half)\n",
    "    \n",
    "    IQR = Q3 - Q1\n",
    "    \n",
    "    lower_bound = Q1 - 1.5 * IQR\n",
    "    upper_bound = Q3 + 1.5 * IQR\n",
    "    \n",
    "    outliers_count = sum(x < lower_bound or x > upper_bound for x in arr)\n",
    "    \n",
    "    return outliers_count\n",
    "\n",
    "N = int(input())\n",
    "values = [int(input()) for _ in range(N)]\n",
    "\n",
    "print(count_outliers(values))\n"
   ]
  },
  {
   "cell_type": "code",
   "execution_count": 10,
   "metadata": {},
   "outputs": [
    {
     "name": "stdout",
     "output_type": "stream",
     "text": [
      "2\n",
      "Aleksej Ivan 166.67\n",
      "Igor Ivan 266.66\n"
     ]
    }
   ],
   "source": [
    "# Задача 4\n",
    "from collections import defaultdict\n",
    "\n",
    "participants = input().split()\n",
    "n = int(input())\n",
    "\n",
    "spent = defaultdict(int)\n",
    "\n",
    "for _ in range(n):\n",
    "    name, amount = input().split()\n",
    "    spent[name] += int(amount)\n",
    "\n",
    "total_spent = sum(spent.values())\n",
    "average = total_spent / len(participants)\n",
    "\n",
    "balances = {name: round(spent[name] - average, 2) for name in participants}\n",
    "\n",
    "creditors = []\n",
    "debtors = []\n",
    "\n",
    "for name, balance in balances.items():\n",
    "    if balance > 0:\n",
    "        creditors.append([name, balance])\n",
    "    elif balance < 0:\n",
    "        debtors.append([name, -balance])\n",
    "\n",
    "transactions = []\n",
    "\n",
    "i, j = 0, 0\n",
    "while i < len(creditors) and j < len(debtors):\n",
    "    creditor_name, creditor_amount = creditors[i]\n",
    "    debtor_name, debtor_amount = debtors[j]\n",
    "    \n",
    "    transfer_amount = min(creditor_amount, debtor_amount)\n",
    "    transactions.append((debtor_name, creditor_name, transfer_amount))\n",
    "    \n",
    "    creditors[i][1] -= transfer_amount\n",
    "    debtors[j][1] -= transfer_amount\n",
    "    \n",
    "    if creditors[i][1] == 0:\n",
    "        i += 1\n",
    "    if debtors[j][1] == 0:\n",
    "        j += 1\n",
    "\n",
    "print(len(transactions))\n",
    "for debtor, creditor, amount in transactions:\n",
    "    print(f\"{debtor} {creditor} {amount:.2f}\")"
   ]
  },
  {
   "cell_type": "code",
   "execution_count": 16,
   "metadata": {},
   "outputs": [
    {
     "name": "stdout",
     "output_type": "stream",
     "text": [
      "a)\n",
      "Пеперони: 3\n",
      "Домашняя: 2\n",
      "b)\n",
      "2024-12-15: 800.00\n",
      "2024-12-16: 1450.00\n",
      "2024-12-17: 480.00\n",
      "c)\n",
      "2024-12-16 Пеперони 800.00\n",
      "d)\n",
      "546.00\n"
     ]
    }
   ],
   "source": [
    "# Задача 5\n",
    "from collections import defaultdict\n",
    "\n",
    "n = int(input())\n",
    "\n",
    "orders = []\n",
    "pizza_count = defaultdict(int)\n",
    "daily_income = defaultdict(float)\n",
    "\n",
    "for _ in range(n):\n",
    "    date, pizza_name, cost = input().split()\n",
    "    cost = float(cost)\n",
    "    orders.append((date, pizza_name, cost))\n",
    "    \n",
    "    pizza_count[pizza_name] += 1\n",
    "    \n",
    "    daily_income[date] += cost\n",
    "\n",
    "# a) Список пицц с количеством заказов, отсортированный по убыванию количества\n",
    "sorted_pizzas = sorted(pizza_count.items(), key=lambda x: -x[1])\n",
    "print(\"a)\")\n",
    "for pizza, count in sorted_pizzas:\n",
    "    print(f\"{pizza}: {count}\")\n",
    "\n",
    "# b) Список всех дат с суммарной стоимостью, отсортированный хронологически\n",
    "sorted_dates = sorted(daily_income.items())\n",
    "print(\"b)\")\n",
    "for date, total in sorted_dates:\n",
    "    print(f\"{date}: {total:.2f}\")\n",
    "\n",
    "# c) Самый дорогой заказ\n",
    "most_expensive_order = max(orders, key=lambda x: x[2])\n",
    "print(\"c)\")\n",
    "print(f\"{most_expensive_order[0]} {most_expensive_order[1]} {most_expensive_order[2]:.2f}\")\n",
    "\n",
    "# d) Средняя стоимость заказа\n",
    "total_cost = sum(order[2] for order in orders)\n",
    "average_cost = total_cost / len(orders)\n",
    "print(\"d)\")\n",
    "print(f\"{average_cost:.2f}\")\n",
    "\n",
    "# Тест\n",
    "# 5\n",
    "# 2024-12-15 Пеперони 500\n",
    "# 2024-12-15 Домашняя 300\n",
    "# 2024-12-16 Пеперони 800\n",
    "# 2024-12-16 Пеперони 650\n",
    "# 2024-12-17 Домашняя 480"
   ]
  },
  {
   "cell_type": "code",
   "execution_count": 17,
   "metadata": {},
   "outputs": [
    {
     "name": "stdout",
     "output_type": "stream",
     "text": [
      "Автор с наибольшим количеством писем: zqian@umich.edu\n",
      "Количество писем: 195\n"
     ]
    }
   ],
   "source": [
    "# Задача 6\n",
    "email_counts = {}\n",
    "\n",
    "with open(\"mbox.txt\", \"r\") as file:\n",
    "    for line in file:\n",
    "        if line.startswith(\"From \"):\n",
    "            words = line.split()\n",
    "            email = words[1]\n",
    "            email_counts[email] = email_counts.get(email, 0) + 1\n",
    "\n",
    "max_email = max(email_counts, key=email_counts.get)\n",
    "max_count = email_counts[max_email]\n",
    "\n",
    "print(f\"Автор с наибольшим количеством писем: {max_email}\")\n",
    "print(f\"Количество писем: {max_count}\")\n"
   ]
  }
 ],
 "metadata": {
  "kernelspec": {
   "display_name": "Python 3",
   "language": "python",
   "name": "python3"
  },
  "language_info": {
   "codemirror_mode": {
    "name": "ipython",
    "version": 3
   },
   "file_extension": ".py",
   "mimetype": "text/x-python",
   "name": "python",
   "nbconvert_exporter": "python",
   "pygments_lexer": "ipython3",
   "version": "3.13.0"
  }
 },
 "nbformat": 4,
 "nbformat_minor": 2
}
